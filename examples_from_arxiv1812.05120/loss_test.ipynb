{
 "cells": [
  {
   "cell_type": "code",
   "execution_count": 2,
   "metadata": {},
   "outputs": [],
   "source": [
    "import numpy as np\n",
    "import pandas as pd\n",
    "import matplotlib.pyplot as plt\n",
    "import glob\n",
    "import seaborn as sns\n",
    "from tqdm import tqdm\n",
    "%matplotlib inline\n",
    "plt.ioff()"
   ]
  },
  {
   "cell_type": "code",
   "execution_count": 3,
   "metadata": {},
   "outputs": [
    {
     "name": "stderr",
     "output_type": "stream",
     "text": [
      "100%|██████████| 18/18 [00:00<00:00, 34.69it/s]\n"
     ]
    }
   ],
   "source": [
    "D = []\n",
    "for name in tqdm(glob.glob('h_loss_*')):\n",
    "    _1, _2, n, spam, avgover, batches, batchsize, loss = name.split('/')[-1].split('_')\n",
    "    with open(name,'r') as f:\n",
    "        d = eval(f.read())\n",
    "        d = pd.DataFrame(d)\n",
    "        d['epoch'] = d.index\n",
    "        d['n'] = int(n)\n",
    "        d['spam'] = float(spam)\n",
    "        d['avgover'] = float(avgover)\n",
    "        d['batches'] = int(batches)\n",
    "        d['batchsize'] = int(batchsize)\n",
    "        d['loss'] = loss\n",
    "        D.append(d)\n",
    "D = pd.concat(D,ignore_index=True)"
   ]
  },
  {
   "cell_type": "code",
   "execution_count": 4,
   "metadata": {},
   "outputs": [],
   "source": [
    "D['datasize'] = D['batches']*D['batchsize']*D['avgover']\n",
    "D['pulses'] = D['batches']*D['batchsize']\n",
    "D['P'] = D['pulses']\n",
    "D['S'] = D['avgover']\n",
    "D['C'] = D['loss']\n",
    "D['V'] = D['val_loss']\n",
    "D['SPaM'] = D['spam']\n",
    "Dlast = D.loc[D.groupby(['n', 'spam', 'avgover', 'batches', 'batchsize', 'loss'])['epoch'].idxmax()]\n",
    "Dspamless = Dlast[Dlast.spam==0]\n",
    "Dspammost = Dlast[Dlast.spam==0.01]\n",
    "Dfin = Dlast[Dlast.avgover<1e10]"
   ]
  },
  {
   "cell_type": "code",
   "execution_count": 15,
   "metadata": {},
   "outputs": [
    {
     "name": "stderr",
     "output_type": "stream",
     "text": [
      "/home/fas/jiang/sk943/anaconda3/lib/python3.6/site-packages/ipykernel_launcher.py:1: SettingWithCopyWarning: \n",
      "A value is trying to be set on a copy of a slice from a DataFrame\n",
      "\n",
      "See the caveats in the documentation: http://pandas.pydata.org/pandas-docs/stable/indexing.html#indexing-view-versus-copy\n",
      "  \"\"\"Entry point for launching an IPython kernel.\n"
     ]
    },
    {
     "data": {
      "image/png": "[encoded data removed]",
      "text/plain": [
       "<matplotlib.figure.Figure at 0x2b9a4d50b278>"
      ]
     },
     "metadata": {},
     "output_type": "display_data"
    }
   ],
   "source": [
    "Dlast.loss[Dlast.loss=='crossentropy'] = 'cross entropy'\n",
    "Dlast['optimization target'] = Dlast.loss\n",
    "fg = sns.FacetGrid(Dlast, hue='optimization target',)\n",
    "fg.map(plt.loglog,'avgover','val_mean_squared_error',marker='.')\n",
    "fg.add_legend()\n",
    "#fg.axes[0][0].legend(['Cross Entropy','MAE','MSE'])\n",
    "fg.set_xlabels('Number of Samples, S')\n",
    "fg.set_ylabels('Validation Function')\n",
    "fg.savefig('loss_choice.png',dpi=400)"
   ]
  },
  {
   "cell_type": "code",
   "execution_count": 11,
   "metadata": {},
   "outputs": [
    {
     "data": {
      "text/plain": [
       "<matplotlib.axes._subplots.AxesSubplot at 0x2b9a4dd6dac8>"
      ]
     },
     "execution_count": 11,
     "metadata": {},
     "output_type": "execute_result"
    }
   ],
   "source": []
  },
  {
   "cell_type": "code",
   "execution_count": null,
   "metadata": {},
   "outputs": [],
   "source": []
  }
 ],
 "metadata": {
  "kernelspec": {
   "display_name": "Python 3",
   "language": "python",
   "name": "python3"
  },
  "language_info": {
   "codemirror_mode": {
    "name": "ipython",
    "version": 3
   },
   "file_extension": ".py",
   "mimetype": "text/x-python",
   "name": "python",
   "nbconvert_exporter": "python",
   "pygments_lexer": "ipython3",
   "version": "3.6.4"
  }
 },
 "nbformat": 4,
 "nbformat_minor": 2
}
